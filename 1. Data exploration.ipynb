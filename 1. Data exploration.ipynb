{
 "cells": [
  {
   "cell_type": "markdown",
   "metadata": {},
   "source": [
    "# Imports"
   ]
  },
  {
   "cell_type": "code",
   "execution_count": 2,
   "metadata": {
    "ExecuteTime": {
     "end_time": "2019-08-21T20:23:11.158371Z",
     "start_time": "2019-08-21T20:23:11.153738Z"
    }
   },
   "outputs": [],
   "source": [
    "import pytorch_tools as pt\n",
    "from pytorch_tools.utils import rle\n",
    "import matplotlib.pyplot as plt\n",
    "import numpy as np\n",
    "import pydicom\n",
    "import os\n",
    "import glob\n",
    "import pandas as pd\n",
    "from ipywidgets import interactive, interact\n",
    "import cv2\n",
    "from tqdm import tqdm_notebook\n",
    "import tqdm\n",
    "from multiprocessing import Pool\n",
    "from sklearn.model_selection import train_test_split\n",
    "%matplotlib inline\n"
   ]
  },
  {
   "cell_type": "markdown",
   "metadata": {},
   "source": [
    "# Data visualiziation"
   ]
  },
  {
   "cell_type": "code",
   "execution_count": 3,
   "metadata": {
    "ExecuteTime": {
     "end_time": "2019-08-21T20:23:11.706563Z",
     "start_time": "2019-08-21T20:23:11.696452Z"
    }
   },
   "outputs": [],
   "source": [
    "def show_dcm_info(dataset):\n",
    "    print(\"Filename.........:\", file_path)\n",
    "    print(\"Storage type.....:\", dataset.SOPClassUID)\n",
    "    print()\n",
    "\n",
    "    pat_name = dataset.PatientName\n",
    "    display_name = pat_name.family_name + \", \" + pat_name.given_name\n",
    "    print(\"Patient's name......:\", display_name)\n",
    "    print(\"Patient id..........:\", dataset.PatientID)\n",
    "    print(\"Patient's Age.......:\", dataset.PatientAge)\n",
    "    print(\"Patient's Sex.......:\", dataset.PatientSex)\n",
    "    print(\"Modality............:\", dataset.Modality)\n",
    "    print(\"Body Part Examined..:\", dataset.BodyPartExamined)\n",
    "    print(\"View Position.......:\", dataset.ViewPosition)\n",
    "    \n",
    "    if 'PixelData' in dataset:\n",
    "        rows = int(dataset.Rows)\n",
    "        cols = int(dataset.Columns)\n",
    "        print(\"Image size.......: {rows:d} x {cols:d}, {size:d} bytes\".format(\n",
    "            rows=rows, cols=cols, size=len(dataset.PixelData)))\n",
    "        if 'PixelSpacing' in dataset:\n",
    "            print(\"Pixel spacing....:\", dataset.PixelSpacing)\n",
    "\n",
    "def plot_pixel_array(dataset, figsize=(6,6)):\n",
    "    plt.figure(figsize=figsize)\n",
    "    plt.imshow(dataset.pixel_array, cmap=plt.cm.bone)\n",
    "    plt.show()\n",
    "\n",
    "def mask2rle(img, width, height):\n",
    "    rle = []\n",
    "    lastColor = 0;\n",
    "    currentPixel = 0;\n",
    "    runStart = -1;\n",
    "    runLength = 0;\n",
    "\n",
    "    for x in range(width):\n",
    "        for y in range(height):\n",
    "            currentColor = img[x][y]\n",
    "            if currentColor != lastColor:\n",
    "                if currentColor == 255:\n",
    "                    runStart = currentPixel;\n",
    "                    runLength = 1;\n",
    "                else:\n",
    "                    rle.append(str(runStart));\n",
    "                    rle.append(str(runLength));\n",
    "                    runStart = -1;\n",
    "                    runLength = 0;\n",
    "                    currentPixel = 0;\n",
    "            elif runStart > -1:\n",
    "                runLength += 1\n",
    "            lastColor = currentColor;\n",
    "            currentPixel+=1;\n",
    "\n",
    "    return \" \".join(rle)\n",
    "\n",
    "def rle2mask(rle, width, height):\n",
    "    mask= np.zeros(width* height)\n",
    "    array = np.asarray([int(x) for x in rle.split()])\n",
    "    starts = array[0::2]\n",
    "    lengths = array[1::2]\n",
    "\n",
    "    current_position = 0\n",
    "    for index, start in enumerate(starts):\n",
    "        current_position += start\n",
    "        mask[current_position:current_position+lengths[index]] = 255\n",
    "        current_position += lengths[index]\n",
    "\n",
    "    return mask.reshape(width, height)\n"
   ]
  },
  {
   "cell_type": "markdown",
   "metadata": {},
   "source": [
    "### show random dcm train file"
   ]
  },
  {
   "cell_type": "code",
   "execution_count": 4,
   "metadata": {
    "ExecuteTime": {
     "end_time": "2019-08-21T20:23:15.467884Z",
     "start_time": "2019-08-21T20:23:14.883021Z"
    }
   },
   "outputs": [],
   "source": [
    "train_dcms = glob.glob('input/dicom-images-train/*/*/*.dcm')\n",
    "test_dcms = glob.glob('input/dicom-images-test/*/*/*.dcm')\n",
    "rles = np.genfromtxt('input/train-rle-filtered.csv', delimiter=', ', dtype=str)[1:]\n",
    "clahe = cv2.createCLAHE(clipLimit=2.0, tileGridSize=(8,8))\n",
    "#df = pd.read_csv('input/train-rle.csv', index_col=0, sep=', ')"
   ]
  },
  {
   "cell_type": "code",
   "execution_count": null,
   "metadata": {},
   "outputs": [],
   "source": []
  },
  {
   "cell_type": "code",
   "execution_count": 5,
   "metadata": {
    "ExecuteTime": {
     "end_time": "2019-08-21T20:23:17.945341Z",
     "start_time": "2019-08-21T20:23:17.942894Z"
    }
   },
   "outputs": [],
   "source": [
    "from pytorch_tools.utils.rle import rle_to_string, rle_encode, rle_decode"
   ]
  },
  {
   "cell_type": "code",
   "execution_count": 6,
   "metadata": {
    "ExecuteTime": {
     "end_time": "2019-08-21T20:23:19.770897Z",
     "start_time": "2019-08-21T20:23:19.768926Z"
    }
   },
   "outputs": [],
   "source": [
    "# we have more rles than images. need to merge them\n",
    "# new_rles = []\n",
    "# for un_idx in tqdm_notebook(np.unique(rles[:, 0])):\n",
    "#     idx_rles = rles[rles[:,0] == un_idx][:, 1]\n",
    "#     masks = [rle_decode(rle, (1024,1024), relative=True) for rle in idx_rles]\n",
    "#     mask = np.clip(np.sum(masks, axis=0), 0,1)\n",
    "#     new_rle = rle_to_string(rle_encode(mask))\n",
    "#     new_rle = new_rle if new_rle else '-1'\n",
    "#     new_rles.append(new_rle)"
   ]
  },
  {
   "cell_type": "code",
   "execution_count": 7,
   "metadata": {
    "ExecuteTime": {
     "end_time": "2019-08-21T20:23:21.716148Z",
     "start_time": "2019-08-21T20:23:21.124166Z"
    }
   },
   "outputs": [],
   "source": [
    "# with open('input/train-rle-filtered.csv', 'w') as f:\n",
    "#     lines = [','.join([idx, rle]) for idx, rle in zip(np.unique(rles[:, 0]), new_rles)]\n",
    "#     result = '\\n'.join(lines)\n",
    "#     f.write(result)\n",
    "rles = np.genfromtxt('input/train-rle-filtered.csv', delimiter=',', dtype=str)"
   ]
  },
  {
   "cell_type": "code",
   "execution_count": 11,
   "metadata": {
    "ExecuteTime": {
     "end_time": "2019-08-21T20:24:01.847351Z",
     "start_time": "2019-08-21T20:24:01.594333Z"
    },
    "scrolled": true
   },
   "outputs": [
    {
     "data": {
      "application/vnd.jupyter.widget-view+json": {
       "model_id": "69eee713f93f4e34902c301b0812a008",
       "version_major": 2,
       "version_minor": 0
      },
      "text/plain": [
       "interactive(children=(IntSlider(value=4, description='n', max=20), Checkbox(value=True, description='show_mask…"
      ]
     },
     "metadata": {},
     "output_type": "display_data"
    }
   ],
   "source": [
    "#np.random.shuffle(train_dcms)\n",
    "@interact(n=(0,20))\n",
    "def f(n=4, show_mask=True, use_clahe=False, dilate_mask=False):\n",
    "    dataset = pydicom.dcmread(train_dcms[n])\n",
    "    #show_dcm_info(dataset)\n",
    "    plt.figure(figsize=(5,5))\n",
    "    pixels = dataset.pixel_array\n",
    "    if use_clahe:\n",
    "        pixels = clahe.apply(pixels)\n",
    "    plt.imshow(pixels, cmap=plt.cm.bone)\n",
    "    img_id = train_dcms[n].split('/')[-1][:-4]\n",
    "    try:\n",
    "        rle_mask = rles[rles[:,0] == img_id][0, 1]\n",
    "    except:\n",
    "        rle_mask = '-1'\n",
    "    if rle_mask != '-1':\n",
    "        plt.title('See Marker')\n",
    "        mask = rle_decode(rle_mask, (1024,1024)).astype(np.uint8)\n",
    "        if show_mask:\n",
    "            if dilate_mask:\n",
    "                mask_sz = np.sqrt(np.sum(mask))\n",
    "                k_sz = int(mask_sz * 0.1)\n",
    "                kernel = np.ones((k_sz, k_sz))\n",
    "                mask = cv2.dilate(mask,kernel,iterations = 1)\n",
    "            pixels[mask == 1] = 255\n",
    "            plt.imshow(pixels, cmap=plt.cm.bone)\n",
    "    else:\n",
    "        plt.title('Nothing to see')\n",
    "    plt.show()"
   ]
  },
  {
   "cell_type": "markdown",
   "metadata": {},
   "source": [
    "## Show masks histograms"
   ]
  },
  {
   "cell_type": "code",
   "execution_count": 103,
   "metadata": {
    "ExecuteTime": {
     "end_time": "2019-08-21T18:30:32.805598Z",
     "start_time": "2019-08-21T18:30:32.802127Z"
    }
   },
   "outputs": [],
   "source": [
    "def get_mask_size(rles):\n",
    "    sizes = []\n",
    "    for rle in rles:\n",
    "        if rle == '-1':\n",
    "            sizes.append(0)\n",
    "            continue\n",
    "        sizes.append(sum([int(ii) for ii in rle.split()[1::2]]))\n",
    "    return sizes"
   ]
  },
  {
   "cell_type": "code",
   "execution_count": 104,
   "metadata": {
    "ExecuteTime": {
     "end_time": "2019-08-21T18:30:34.831335Z",
     "start_time": "2019-08-21T18:30:34.014158Z"
    }
   },
   "outputs": [
    {
     "name": "stdout",
     "output_type": "stream",
     "text": [
      "Total images: 10675. Has masks: 2379\n",
      "Max mask/image perc: 15.394306182861328. Min: 0.005245208740234375. Mean: 1.3680423994733788.\n"
     ]
    },
    {
     "data": {
      "image/png": "[encoded data removed]",
      "text/plain": [
       "<Figure size 432x288 with 1 Axes>"
      ]
     },
     "metadata": {
      "needs_background": "light"
     },
     "output_type": "display_data"
    }
   ],
   "source": [
    "with_mask = rles[rles[:,1] != '-1']\n",
    "print('Total images: {}. Has masks: {}'.format(len(rles), len(with_mask)))\n",
    "mask_sizes = get_mask_size(rles[:, 1])\n",
    "mask_sizes = [i / (1024*1024)*100 for i in mask_sizes if i > 0]\n",
    "print('Max mask/image perc: {}. Min: {}. Mean: {}.'.format(max(mask_sizes),min(mask_sizes), np.mean(mask_sizes)))\n",
    "plt.hist(mask_sizes, bins=50);"
   ]
  },
  {
   "cell_type": "markdown",
   "metadata": {},
   "source": [
    "## Train test val split"
   ]
  },
  {
   "cell_type": "code",
   "execution_count": 12,
   "metadata": {
    "ExecuteTime": {
     "end_time": "2019-08-21T20:24:28.292692Z",
     "start_time": "2019-08-21T20:24:26.407456Z"
    }
   },
   "outputs": [],
   "source": [
    "train, val_test = train_test_split(rles, stratify=rles[:,1] != '-1', test_size=0.2, random_state=42)\n",
    "val, test = train_test_split(val_test, stratify=val_test[:,1] != '-1', test_size=0.5, random_state=42)\n",
    "train_idx = set(train[:,0])\n",
    "val_idx = set(val[:,0])\n",
    "test_idx = set(test[:,0])\n",
    "np.save('workdir/train_idx', train[:,0])\n",
    "np.save('workdir/test_idx', test[:,0])\n",
    "np.save('workdir/val_idx', val[:,0])"
   ]
  },
  {
   "cell_type": "markdown",
   "metadata": {},
   "source": [
    "# Preprocess datasets"
   ]
  },
  {
   "cell_type": "code",
   "execution_count": 16,
   "metadata": {
    "ExecuteTime": {
     "end_time": "2019-08-21T20:26:45.672973Z",
     "start_time": "2019-08-21T20:26:32.723288Z"
    }
   },
   "outputs": [
    {
     "data": {
      "application/vnd.jupyter.widget-view+json": {
       "model_id": "65f7872bf0eb46d6a419d11439bca6d4",
       "version_major": 2,
       "version_minor": 0
      },
      "text/plain": [
       "HBox(children=(IntProgress(value=0, max=10712), HTML(value='')))"
      ]
     },
     "metadata": {},
     "output_type": "display_data"
    }
   ],
   "source": [
    "# save train images\n",
    "os.makedirs('workdir/preprocessed_train/images/', exist_ok=True)\n",
    "os.makedirs('workdir/preprocessed_train/masks/', exist_ok=True)\n",
    "clahe = cv2.createCLAHE(clipLimit=2.0, tileGridSize=(8,8))\n",
    "USE_CLAHE = False\n",
    "DILATE_MASK = False\n",
    "def save_one(pair):\n",
    "    idx, dcm = pair\n",
    "    #filename = '{:06d}.'.format(idx)\n",
    "    img = pydicom.dcmread(dcm).pixel_array\n",
    "    img_id = dcm.split('/')[-1][:-4]\n",
    "    try:\n",
    "        rle_mask = rles[rles[:,0] == img_id][0, 1]\n",
    "    except:\n",
    "        rle_mask = '-1'\n",
    "    if rle_mask == '-1':\n",
    "        mask = np.zeros((1024,1024),dtype=np.uint8)\n",
    "    else:\n",
    "        #print(rle_mask)\n",
    "        mask = rle_decode(rle_mask, (1024,1024)).astype(np.uint8)\n",
    "    #print(np.mean(mask))\n",
    "    # make images more contrast\n",
    "    img = clahe.apply(img) if USE_CLAHE else img\n",
    "    # make masks bigger for easier detection\n",
    "    if DILATE_MASK:\n",
    "        mask_sz = np.sqrt(np.sum(mask))\n",
    "        k_sz = int(mask_sz * 0.05) # dilate by 5% of mask size\n",
    "        kernel = np.ones((k_sz, k_sz))\n",
    "        mask = cv2.dilate(mask,kernel,iterations = 1)\n",
    "    cv2.imwrite('workdir/preprocessed_train/images/'+img_id + '.jpg', img)\n",
    "    cv2.imwrite('workdir/preprocessed_train/masks/'+img_id + '.png', mask) #PNG for masks!\n",
    "\n",
    "pairs = list(zip(list(range(len(train_dcms))), train_dcms))\n",
    "with Pool() as pool:\n",
    "    for _ in tqdm_notebook(pool.imap_unordered(save_one, pairs), total=len(pairs)):\n",
    "        pass"
   ]
  },
  {
   "cell_type": "code",
   "execution_count": 24,
   "metadata": {
    "ExecuteTime": {
     "end_time": "2019-08-21T17:00:16.658012Z",
     "start_time": "2019-08-21T17:00:16.363323Z"
    }
   },
   "outputs": [],
   "source": [
    "sizes = get_mask_size(rles[:, 1])\n",
    "def f(x):\n",
    "    if x == 0:\n",
    "        return 0\n",
    "    elif x < 1:\n",
    "        return 1\n",
    "    else:\n",
    "        return 2\n",
    "classes = [f(s) for s in sizes]"
   ]
  },
  {
   "cell_type": "raw",
   "metadata": {},
   "source": [
    "8296 пустые. 3286 с масками"
   ]
  },
  {
   "cell_type": "code",
   "execution_count": 43,
   "metadata": {
    "ExecuteTime": {
     "end_time": "2019-08-20T14:55:14.003254Z",
     "start_time": "2019-08-20T14:54:50.678566Z"
    }
   },
   "outputs": [
    {
     "data": {
      "application/vnd.jupyter.widget-view+json": {
       "model_id": "771d7e74bb554bba82391b693e09af8d",
       "version_major": 2,
       "version_minor": 0
      },
      "text/plain": [
       "HBox(children=(IntProgress(value=0, max=1377), HTML(value='')))"
      ]
     },
     "metadata": {},
     "output_type": "display_data"
    }
   ],
   "source": [
    "# save test images\n",
    "os.makedirs('workdir/test/images', exist_ok=True)\n",
    "for idx, dcm in enumerate(tqdm_notebook(test_dcms)):\n",
    "    filename = '{:06d}.png'.format(idx)\n",
    "    img = pydicom.dcmread(dcm).pixel_array\n",
    "    cv2.imwrite('workdir/test/images/'+filename, img)"
   ]
  },
  {
   "cell_type": "code",
   "execution_count": null,
   "metadata": {},
   "outputs": [],
   "source": []
  }
 ],
 "metadata": {
  "kernelspec": {
   "display_name": "Python 3",
   "language": "python",
   "name": "python3"
  },
  "language_info": {
   "codemirror_mode": {
    "name": "ipython",
    "version": 3
   },
   "file_extension": ".py",
   "mimetype": "text/x-python",
   "name": "python",
   "nbconvert_exporter": "python",
   "pygments_lexer": "ipython3",
   "version": "3.7.4"
  },
  "varInspector": {
   "cols": {
    "lenName": 16,
    "lenType": 16,
    "lenVar": 40
   },
   "kernels_config": {
    "python": {
     "delete_cmd_postfix": "",
     "delete_cmd_prefix": "del ",
     "library": "var_list.py",
     "varRefreshCmd": "print(var_dic_list())"
    },
    "r": {
     "delete_cmd_postfix": ") ",
     "delete_cmd_prefix": "rm(",
     "library": "var_list.r",
     "varRefreshCmd": "cat(var_dic_list()) "
    }
   },
   "types_to_exclude": [
    "module",
    "function",
    "builtin_function_or_method",
    "instance",
    "_Feature"
   ],
   "window_display": false
  }
 },
 "nbformat": 4,
 "nbformat_minor": 2
}
