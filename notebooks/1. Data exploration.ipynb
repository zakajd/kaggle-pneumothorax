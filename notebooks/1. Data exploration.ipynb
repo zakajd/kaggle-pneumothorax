{
 "cells": [
  {
   "cell_type": "code",
   "execution_count": null,
   "metadata": {
    "ExecuteTime": {
     "end_time": "2020-05-05T20:35:00.130295Z",
     "start_time": "2020-05-05T20:35:00.127872Z"
    }
   },
   "outputs": [],
   "source": [
    "# !pip install pydicom"
   ]
  },
  {
   "cell_type": "markdown",
   "metadata": {},
   "source": [
    "# Imports"
   ]
  },
  {
   "cell_type": "code",
   "execution_count": null,
   "metadata": {
    "ExecuteTime": {
     "end_time": "2020-05-06T17:19:33.383031Z",
     "start_time": "2020-05-06T17:19:32.359571Z"
    }
   },
   "outputs": [],
   "source": [
    "import os\n",
    "import cv2\n",
    "import glob\n",
    "import pydicom\n",
    "import numpy as np\n",
    "import pandas as pd\n",
    "import pytorch_tools as pt\n",
    "from tqdm.notebook import tqdm\n",
    "import matplotlib.pyplot as plt\n",
    "from ipywidgets import interactive, interact\n",
    "\n",
    "# from multiprocessing import Pool\n",
    "# from sklearn.model_selection import train_test_split"
   ]
  },
  {
   "cell_type": "code",
   "execution_count": 2,
   "metadata": {
    "ExecuteTime": {
     "end_time": "2020-05-06T17:19:33.484408Z",
     "start_time": "2020-05-06T17:19:33.385830Z"
    }
   },
   "outputs": [
    {
     "data": {
      "text/html": [
       "<style>.container {width:100% !important;}</style>"
      ],
      "text/plain": [
       "<IPython.core.display.HTML object>"
      ]
     },
     "metadata": {},
     "output_type": "display_data"
    },
    {
     "name": "stdout",
     "output_type": "stream",
     "text": [
      "Wed May 06 2020 \n",
      "\n",
      "CPython 3.6.9\n",
      "IPython 7.8.0\n",
      "\n",
      "numpy 1.18.1\n",
      "torch 1.3.1\n",
      "pandas 1.0.0\n",
      "\n",
      "compiler   : GCC 8.4.0\n",
      "system     : Linux\n",
      "release    : 4.15.0-96-generic\n",
      "machine    : x86_64\n",
      "processor  : x86_64\n",
      "CPU cores  : 16\n",
      "interpreter: 64bit\n"
     ]
    }
   ],
   "source": [
    "from IPython.core.display import display, HTML\n",
    "display(HTML(\"<style>.container {width:100% !important;}</style>\"))\n",
    "\n",
    "# Fix to be able to import python modules inside a notebook\n",
    "os.chdir('..')\n",
    "\n",
    "# Useful extensions\n",
    "%load_ext watermark\n",
    "%watermark -v -n -m -p numpy,torch,pandas\n",
    "\n",
    "# %load_ext autoreload\n",
    "# %autoreload 2\n",
    "\n",
    "# Nice plot formating\n",
    "%matplotlib inline"
   ]
  },
  {
   "cell_type": "markdown",
   "metadata": {},
   "source": [
    "# Data visualiziation"
   ]
  },
  {
   "cell_type": "code",
   "execution_count": 3,
   "metadata": {
    "ExecuteTime": {
     "end_time": "2020-05-06T17:19:36.126195Z",
     "start_time": "2020-05-06T17:19:36.120204Z"
    }
   },
   "outputs": [],
   "source": [
    "def show_dcm_info(dataset):\n",
    "    print(\"Filename.........:\", file_path)\n",
    "    print(\"Storage type.....:\", dataset.SOPClassUID)\n",
    "    print()\n",
    "\n",
    "    pat_name = dataset.PatientName\n",
    "    display_name = pat_name.family_name + \", \" + pat_name.given_name\n",
    "    print(\"Patient's name......:\", display_name)\n",
    "    print(\"Patient id..........:\", dataset.PatientID)\n",
    "    print(\"Patient's Age.......:\", dataset.PatientAge)\n",
    "    print(\"Patient's Sex.......:\", dataset.PatientSex)\n",
    "    print(\"Modality............:\", dataset.Modality)\n",
    "    print(\"Body Part Examined..:\", dataset.BodyPartExamined)\n",
    "    print(\"View Position.......:\", dataset.ViewPosition)\n",
    "    \n",
    "    if 'PixelData' in dataset:\n",
    "        rows = int(dataset.Rows)\n",
    "        cols = int(dataset.Columns)\n",
    "        print(\"Image size.......: {rows:d} x {cols:d}, {size:d} bytes\".format(\n",
    "            rows=rows, cols=cols, size=len(dataset.PixelData)))\n",
    "        if 'PixelSpacing' in dataset:\n",
    "            print(\"Pixel spacing....:\", dataset.PixelSpacing)\n",
    "\n",
    "def plot_pixel_array(dataset, figsize=(6,6)):\n",
    "    plt.figure(figsize=figsize)\n",
    "    plt.imshow(dataset.pixel_array, cmap=plt.cm.bone)\n",
    "    plt.show()\n"
   ]
  },
  {
   "cell_type": "code",
   "execution_count": 4,
   "metadata": {
    "ExecuteTime": {
     "end_time": "2020-05-06T17:19:38.842515Z",
     "start_time": "2020-05-06T17:19:38.423670Z"
    }
   },
   "outputs": [
    {
     "name": "stdout",
     "output_type": "stream",
     "text": [
      "Train images: 12089, test images: 3205, lines in DF: 12954\n"
     ]
    },
    {
     "data": {
      "text/html": [
       "<div>\n",
       "<style scoped>\n",
       "    .dataframe tbody tr th:only-of-type {\n",
       "        vertical-align: middle;\n",
       "    }\n",
       "\n",
       "    .dataframe tbody tr th {\n",
       "        vertical-align: top;\n",
       "    }\n",
       "\n",
       "    .dataframe thead th {\n",
       "        text-align: right;\n",
       "    }\n",
       "</style>\n",
       "<table border=\"1\" class=\"dataframe\">\n",
       "  <thead>\n",
       "    <tr style=\"text-align: right;\">\n",
       "      <th></th>\n",
       "      <th>ImageId</th>\n",
       "      <th>EncodedPixels</th>\n",
       "    </tr>\n",
       "  </thead>\n",
       "  <tbody>\n",
       "    <tr>\n",
       "      <th>0</th>\n",
       "      <td>1.2.276.0.7230010.3.1.4.8323329.6904.151787520...</td>\n",
       "      <td>-1</td>\n",
       "    </tr>\n",
       "    <tr>\n",
       "      <th>1</th>\n",
       "      <td>1.2.276.0.7230010.3.1.4.8323329.13666.15178752...</td>\n",
       "      <td>557374 2 1015 8 1009 14 1002 20 997 26 990 32 ...</td>\n",
       "    </tr>\n",
       "    <tr>\n",
       "      <th>2</th>\n",
       "      <td>1.2.276.0.7230010.3.1.4.8323329.11028.15178752...</td>\n",
       "      <td>-1</td>\n",
       "    </tr>\n",
       "    <tr>\n",
       "      <th>3</th>\n",
       "      <td>1.2.276.0.7230010.3.1.4.8323329.10366.15178752...</td>\n",
       "      <td>514175 10 1008 29 994 30 993 32 991 33 990 34 ...</td>\n",
       "    </tr>\n",
       "    <tr>\n",
       "      <th>4</th>\n",
       "      <td>1.2.276.0.7230010.3.1.4.8323329.10016.15178752...</td>\n",
       "      <td>592184 33 976 58 956 73 941 88 926 102 917 109...</td>\n",
       "    </tr>\n",
       "  </tbody>\n",
       "</table>\n",
       "</div>"
      ],
      "text/plain": [
       "                                             ImageId  \\\n",
       "0  1.2.276.0.7230010.3.1.4.8323329.6904.151787520...   \n",
       "1  1.2.276.0.7230010.3.1.4.8323329.13666.15178752...   \n",
       "2  1.2.276.0.7230010.3.1.4.8323329.11028.15178752...   \n",
       "3  1.2.276.0.7230010.3.1.4.8323329.10366.15178752...   \n",
       "4  1.2.276.0.7230010.3.1.4.8323329.10016.15178752...   \n",
       "\n",
       "                                       EncodedPixels  \n",
       "0                                                 -1  \n",
       "1  557374 2 1015 8 1009 14 1002 20 997 26 990 32 ...  \n",
       "2                                                 -1  \n",
       "3  514175 10 1008 29 994 30 993 32 991 33 990 34 ...  \n",
       "4  592184 33 976 58 956 73 941 88 926 102 917 109...  "
      ]
     },
     "execution_count": 4,
     "metadata": {},
     "output_type": "execute_result"
    }
   ],
   "source": [
    "train_dcms = sorted(glob.glob('data/raw/siim/dicom-images-train/*/*/*.dcm'))\n",
    "test_dcms = sorted(glob.glob('data/raw/siim/dicom-images-test/*/*/*.dcm'))\n",
    "df = pd.read_csv(\"data/raw/siim/train-rle.csv\", index_col=None)\n",
    "# Fix incorrect name of CSV file\n",
    "df.rename(columns={' EncodedPixels' : 'EncodedPixels'}, inplace=True)\n",
    "print(f\"Train images: {len(train_dcms)}, test images: {len(test_dcms)}, lines in DF: {len(df)}\")\n",
    "df.head()\n",
    "\n",
    "# rles = np.genfromtxt(\"data/raw/siim/train-rle.csv\", delimiter=',', dtype=str)"
   ]
  },
  {
   "cell_type": "code",
   "execution_count": 8,
   "metadata": {
    "ExecuteTime": {
     "end_time": "2020-05-06T17:21:05.881909Z",
     "start_time": "2020-05-06T17:21:05.679601Z"
    }
   },
   "outputs": [
    {
     "data": {
      "application/vnd.jupyter.widget-view+json": {
       "model_id": "fbfeaf4cb2584c4e9241a9613918e25f",
       "version_major": 2,
       "version_minor": 0
      },
      "text/plain": [
       "interactive(children=(IntSlider(value=14, description='idx', max=20), Checkbox(value=False, description='show_…"
      ]
     },
     "metadata": {},
     "output_type": "display_data"
    }
   ],
   "source": [
    "from pytorch_tools.utils.rle import rle_decode\n",
    "# Show images + their masks\n",
    "@interact(idx=(0,20), )\n",
    "def f(idx=14, show_mask=False, use_clahe=True, dilate_mask=False):\n",
    "    dataset = pydicom.dcmread(train_dcms[idx])\n",
    "    #show_dcm_info(dataset)\n",
    "    plt.figure(figsize=(5,5))\n",
    "    \n",
    "    pixels = dataset.pixel_array\n",
    "    print(pixels.shape)\n",
    "    if use_clahe:\n",
    "        clahe = cv2.createCLAHE(clipLimit=2.0, tileGridSize=(8,8))\n",
    "        pixels = clahe.apply(pixels)\n",
    "    plt.imshow(pixels, cmap=plt.cm.bone)\n",
    "    \n",
    "    img_id = train_dcms[idx].split('/')[-1][:-4]\n",
    "    print(img_id)\n",
    "    rle_mask = df[df['ImageId'] == img_id][\"EncodedPixels\"].values\n",
    "\n",
    "    if show_mask and (rle_mask[0] != '-1'):\n",
    "        plt.title('Mask')\n",
    "        print(f\"Num masks: {len(rle_mask)}\")\n",
    "        for rle in rle_mask:\n",
    "            mask = rle_decode(rle, pixels.shape, relative=True).astype(np.uint8)\n",
    "            if dilate_mask:\n",
    "                mask_sz = np.sqrt(np.sum(mask))\n",
    "                k_sz = int(mask_sz * 0.1)\n",
    "                kernel = np.ones((k_sz, k_sz))\n",
    "                mask = cv2.dilate(mask, kernel, iterations = 1)\n",
    "#             pixels[mask == 1] = 255\n",
    "            plt.imshow(mask, alpha=0.6)\n",
    "    else:\n",
    "        plt.title('No mask')\n",
    "    plt.show()"
   ]
  },
  {
   "cell_type": "code",
   "execution_count": null,
   "metadata": {},
   "outputs": [],
   "source": []
  },
  {
   "cell_type": "code",
   "execution_count": null,
   "metadata": {
    "ExecuteTime": {
     "end_time": "2020-05-06T16:09:20.188276Z",
     "start_time": "2020-05-06T16:09:20.141888Z"
    }
   },
   "outputs": [],
   "source": [
    "# fold = 0\n",
    "# df = pd.read_csv(\"data/interim/train_val.csv\")\n",
    "# df = df[(df[\"Fold\"] == fold)]\n",
    "# print(len(df))\n",
    "# classes = list(df[\"Class\"])\n",
    "# df.groupby(\"Class\").count()\n",
    "# list(df[:1].Index)"
   ]
  },
  {
   "cell_type": "code",
   "execution_count": null,
   "metadata": {
    "ExecuteTime": {
     "end_time": "2020-05-06T15:45:06.484518Z",
     "start_time": "2020-05-06T15:45:06.478358Z"
    }
   },
   "outputs": [],
   "source": [
    "# test_images = os.listdir(\"data/interim/images\")"
   ]
  },
  {
   "cell_type": "code",
   "execution_count": null,
   "metadata": {
    "ExecuteTime": {
     "end_time": "2020-05-06T15:32:43.163421Z",
     "start_time": "2020-05-06T15:32:43.008126Z"
    }
   },
   "outputs": [],
   "source": [
    "# image = cv2.imread('data/interim/masks/1.2.276.0.7230010.3.1.4.8323329.1000.1517875165.878027.png', cv2.IMREAD_GRAYSCALE)\n",
    "# print(image.shape)\n",
    "# plt.imshow(image)\n",
    "\n",
    "# image3 = np.stack([image, image, image], axis=2)\n",
    "# print(image3.shape)\n",
    "# plt.imshow(image3)"
   ]
  },
  {
   "cell_type": "code",
   "execution_count": null,
   "metadata": {
    "ExecuteTime": {
     "end_time": "2020-05-06T09:25:31.883801Z",
     "start_time": "2020-05-06T09:25:31.858229Z"
    }
   },
   "outputs": [],
   "source": [
    "# There is more than 1 mask for some images. Let's plot them\n",
    "# \n",
    "# df_duplicates = df[df.duplicated(subset=\"ImageId\", keep=False)]\n",
    "# # df_duplicates[df_duplicates.ImageId == \"1.2.276.0.7230010.3.1.4.8323329.10011.1517875220.977487\"]\n",
    "# df_duplicates\n"
   ]
  },
  {
   "cell_type": "code",
   "execution_count": 46,
   "metadata": {
    "ExecuteTime": {
     "end_time": "2020-05-06T18:44:53.979180Z",
     "start_time": "2020-05-06T18:43:34.734795Z"
    }
   },
   "outputs": [
    {
     "data": {
      "application/vnd.jupyter.widget-view+json": {
       "model_id": "26cdbdb850184f0484e5fa0c9b8d976c",
       "version_major": 2,
       "version_minor": 0
      },
      "text/plain": [
       "HBox(children=(FloatProgress(value=0.0, max=12047.0), HTML(value='')))"
      ]
     },
     "metadata": {},
     "output_type": "display_data"
    },
    {
     "name": "stdout",
     "output_type": "stream",
     "text": [
      "(1024, 1024)\n",
      "data/interim/masks/1.2.276.0.7230010.3.1.4.8323329.5498.1517875188.505805.png Area:  161421\n",
      "(1024, 1024)\n",
      "data/interim/masks/1.2.276.0.7230010.3.1.4.8323329.13831.1517875248.167238.png Area:  115741\n",
      "(1024, 1024)\n",
      "data/interim/masks/1.2.276.0.7230010.3.1.4.8323329.11349.1517875232.520838.png Area:  117623\n",
      "(1024, 1024)\n",
      "data/interim/masks/1.2.276.0.7230010.3.1.4.8323329.574.1517875163.503792.png Area:  117180\n",
      "(1024, 1024)\n",
      "data/interim/masks/1.2.276.0.7230010.3.1.4.8323329.12773.1517875241.750540.png Area:  126868\n",
      "(1024, 1024)\n",
      "data/interim/masks/1.2.276.0.7230010.3.1.4.8323329.5085.1517875186.344997.png Area:  145885\n",
      "(1024, 1024)\n",
      "data/interim/masks/1.2.276.0.7230010.3.1.4.8323329.1959.1517875170.426913.png Area:  134354\n",
      "\n"
     ]
    }
   ],
   "source": [
    "## 1. Read all masks from data/interim/masks\n",
    "## 2. Skip if empty\n",
    "## 3. Count number of components on mask\n",
    "## 4. Count total area and individual area of each component\n",
    "## 5. Plot histograms of areas for all non-empty masks\n",
    "masks_files = os.listdir(\"data/interim/masks\")\n",
    "total_areas = []\n",
    "individual_areas = []\n",
    "for mask_file in tqdm(masks_files):\n",
    "#     print('data/interim/masks/' + mask_file)\n",
    "    mask = cv2.imread('data/interim/masks/' + mask_file, cv2.IMREAD_GRAYSCALE) / 255.0\n",
    "    if np.sum(mask, dtype=np.uint32) > 112995:\n",
    "        area = np.sum(mask, dtype=np.uint32)\n",
    "        print(mask.shape)\n",
    "        print('data/interim/masks/' + mask_file, 'Area: ', area)\n",
    "\n",
    "#     total_areas.append(np.sum(mask, dtype=np.uint32))\n",
    "    \n"
   ]
  },
  {
   "cell_type": "code",
   "execution_count": 45,
   "metadata": {
    "ExecuteTime": {
     "end_time": "2020-05-06T18:43:13.741125Z",
     "start_time": "2020-05-06T18:43:13.586293Z"
    }
   },
   "outputs": [
    {
     "data": {
      "text/plain": [
       "(array([1.894e+03, 4.900e+02, 1.660e+02, 6.400e+01, 2.900e+01, 1.300e+01,\n",
       "        6.000e+00, 4.000e+00, 1.000e+00, 2.000e+00]),\n",
       " array([1.00000e+00, 1.61430e+04, 3.22850e+04, 4.84270e+04, 6.45690e+04,\n",
       "        8.07110e+04, 9.68530e+04, 1.12995e+05, 1.29137e+05, 1.45279e+05,\n",
       "        1.61421e+05]),\n",
       " <a list of 10 Patch objects>)"
      ]
     },
     "execution_count": 45,
     "metadata": {},
     "output_type": "execute_result"
    },
    {
     "data": {
      "image/png": "[encoded data removed]",
      "text/plain": [
       "<Figure size 432x288 with 1 Axes>"
      ]
     },
     "metadata": {
      "needs_background": "light"
     },
     "output_type": "display_data"
    }
   ],
   "source": [
    "plt.hist(total_areas, range=(1, 161421), bins=10)"
   ]
  },
  {
   "cell_type": "code",
   "execution_count": 50,
   "metadata": {
    "ExecuteTime": {
     "end_time": "2020-05-06T18:45:35.340592Z",
     "start_time": "2020-05-06T18:45:35.189057Z"
    }
   },
   "outputs": [
    {
     "data": {
      "text/plain": [
       "<matplotlib.image.AxesImage at 0x7fa924135e10>"
      ]
     },
     "execution_count": 50,
     "metadata": {},
     "output_type": "execute_result"
    },
    {
     "data": {
      "image/png": "[encoded data removed]",
      "text/plain": [
       "<Figure size 432x288 with 1 Axes>"
      ]
     },
     "metadata": {
      "needs_background": "light"
     },
     "output_type": "display_data"
    }
   ],
   "source": [
    "# Read mask for an image with pneumothorax\n",
    "image_id = '1.2.276.0.7230010.3.1.4.8323329.13831.1517875248.167238'\n",
    "mask = cv2.imread(f'data/interim/masks/{image_id}.png', cv2.IMREAD_GRAYSCALE)\n",
    "plt.imshow(mask)\n",
    "# pred_mask = ((mask / 255.0) * 0.6)\n",
    "# binary_mask = apply_thresholds(pred_mask, top_threshold=0.5, min_component_area=2000)\n",
    "# plt.imshow(binary_mask)\n",
    "# plt.hist(total_areas, range=(1, 1024*1024))\n"
   ]
  },
  {
   "cell_type": "markdown",
   "metadata": {},
   "source": [
    "## Test datasets and dataloaders"
   ]
  },
  {
   "cell_type": "code",
   "execution_count": 54,
   "metadata": {
    "ExecuteTime": {
     "end_time": "2020-05-06T18:48:43.319849Z",
     "start_time": "2020-05-06T18:48:43.316899Z"
    }
   },
   "outputs": [],
   "source": [
    "from src.data.datasets import get_dataloaders, PneumothoraxDataset, PneumothoraxTestDataset\n",
    "from src.data.augmentations import get_aug"
   ]
  },
  {
   "cell_type": "code",
   "execution_count": 55,
   "metadata": {
    "ExecuteTime": {
     "end_time": "2020-05-06T18:48:57.205788Z",
     "start_time": "2020-05-06T18:48:57.129801Z"
    }
   },
   "outputs": [
    {
     "data": {
      "text/plain": [
       "(tensor([[[945.4803, 928.0131, 928.0131,  ..., 853.7773, 866.8777, 748.9738],\n",
       "          [932.3799, 928.0131, 906.1790,  ..., 849.4105, 862.5109, 735.8734],\n",
       "          [910.5458, 893.0786, 884.3450,  ..., 836.3101, 849.4105, 727.1397],\n",
       "          ...,\n",
       "          [329.7598, 347.2271, 334.1266,  ...,  28.4498,  37.1834,  10.9825],\n",
       "          [329.7598, 347.2271, 338.4934,  ...,  28.4498,  37.1834,  10.9825],\n",
       "          [334.1266, 342.8603, 342.8603,  ...,  28.4498,  37.1834,  10.9825]],\n",
       " \n",
       "         [[966.7142, 948.8571, 948.8571,  ..., 872.9642, 886.3571, 765.8214],\n",
       "          [953.3214, 948.8571, 926.5356,  ..., 868.4999, 881.8928, 752.4285],\n",
       "          [930.9999, 913.1428, 904.2142,  ..., 855.1071, 868.4999, 743.5000],\n",
       "          ...,\n",
       "          [337.2500, 355.1071, 341.7143,  ...,  29.2143,  38.1429,  11.3571],\n",
       "          [337.2500, 355.1071, 346.1785,  ...,  29.2143,  38.1429,  11.3571],\n",
       "          [341.7143, 350.6428, 350.6428,  ...,  29.2143,  38.1429,  11.3571]],\n",
       " \n",
       "         [[962.6400, 944.8622, 944.8622,  ..., 869.3067, 882.6400, 762.6400],\n",
       "          [949.3067, 944.8622, 922.6400,  ..., 864.8622, 878.1956, 749.3067],\n",
       "          [927.0845, 909.3067, 900.4178,  ..., 851.5289, 864.8622, 740.4178],\n",
       "          ...,\n",
       "          [335.9734, 353.7511, 340.4178,  ...,  29.3067,  38.1956,  11.5289],\n",
       "          [335.9734, 353.7511, 344.8622,  ...,  29.3067,  38.1956,  11.5289],\n",
       "          [340.4178, 349.3067, 349.3067,  ...,  29.3067,  38.1956,  11.5289]]]),\n",
       " tensor([[[0., 0., 0.,  ..., 0., 0., 0.],\n",
       "          [0., 0., 0.,  ..., 0., 0., 0.],\n",
       "          [0., 0., 0.,  ..., 0., 0., 0.],\n",
       "          ...,\n",
       "          [0., 0., 0.,  ..., 0., 0., 0.],\n",
       "          [0., 0., 0.,  ..., 0., 0., 0.],\n",
       "          [0., 0., 0.,  ..., 0., 0., 0.]]]))"
      ]
     },
     "execution_count": 55,
     "metadata": {},
     "output_type": "execute_result"
    }
   ],
   "source": [
    "dataset = PneumothoraxDataset(transform=get_aug('val'))\n",
    "dataset[0]"
   ]
  },
  {
   "cell_type": "code",
   "execution_count": null,
   "metadata": {},
   "outputs": [],
   "source": []
  },
  {
   "cell_type": "code",
   "execution_count": null,
   "metadata": {
    "ExecuteTime": {
     "end_time": "2019-08-21T20:23:19.770897Z",
     "start_time": "2019-08-21T20:23:19.768926Z"
    }
   },
   "outputs": [],
   "source": [
    "# we have more rles than images. need to merge them\n",
    "# new_rles = []\n",
    "# for un_idx in tqdm_notebook(np.unique(rles[:, 0])):\n",
    "#     idx_rles = rles[rles[:,0] == un_idx][:, 1]\n",
    "#     masks = [rle_decode(rle, (1024,1024), relative=True) for rle in idx_rles]\n",
    "#     mask = np.clip(np.sum(masks, axis=0), 0,1)\n",
    "#     new_rle = rle_to_string(rle_encode(mask))\n",
    "#     new_rle = new_rle if new_rle else '-1'\n",
    "#     new_rles.append(new_rle)"
   ]
  },
  {
   "cell_type": "code",
   "execution_count": null,
   "metadata": {
    "ExecuteTime": {
     "end_time": "2019-08-21T20:23:21.716148Z",
     "start_time": "2019-08-21T20:23:21.124166Z"
    }
   },
   "outputs": [],
   "source": [
    "# with open('input/train-rle-filtered.csv', 'w') as f:\n",
    "#     lines = [','.join([idx, rle]) for idx, rle in zip(np.unique(rles[:, 0]), new_rles)]\n",
    "#     result = '\\n'.join(lines)\n",
    "#     f.write(result)\n"
   ]
  },
  {
   "cell_type": "code",
   "execution_count": null,
   "metadata": {
    "ExecuteTime": {
     "end_time": "2019-08-21T20:24:01.847351Z",
     "start_time": "2019-08-21T20:24:01.594333Z"
    },
    "scrolled": true
   },
   "outputs": [],
   "source": [
    "# #np.random.shuffle(train_dcms)\n",
    "# @interact(n=(0,20))\n",
    "# def f(n=4, show_mask=True, use_clahe=False, dilate_mask=False):\n",
    "#     dataset = pydicom.dcmread(train_dcms[n])\n",
    "#     #show_dcm_info(dataset)\n",
    "#     plt.figure(figsize=(5,5))\n",
    "#     pixels = dataset.pixel_array\n",
    "    \n",
    "#     if use_clahe:\n",
    "#         clahe = cv2.createCLAHE(clipLimit=2.0, tileGridSize=(8,8))\n",
    "#         pixels = clahe.apply(pixels)\n",
    "\n",
    "#     plt.imshow(pixels, cmap=plt.cm.bone)\n",
    "    \n",
    "#     img_id = train_dcms[idx].split('/')[-1][:-4]\n",
    "#     try:\n",
    "#         rle_mask = rles[rles[:,0] == img_id][0, 1]\n",
    "#     except:\n",
    "#         rle_mask = '-1'\n",
    "#     if rle_mask != '-1':\n",
    "#         plt.title('See Marker')\n",
    "#         mask = rle_decode(rle_mask, (1024,1024)).astype(np.uint8)\n",
    "#         if show_mask:\n",
    "#             if dilate_mask:\n",
    "#                 mask_sz = np.sqrt(np.sum(mask))\n",
    "#                 k_sz = int(mask_sz * 0.1)\n",
    "#                 kernel = np.ones((k_sz, k_sz))\n",
    "#                 mask = cv2.dilate(mask,kernel,iterations = 1)\n",
    "#             pixels[mask == 1] = 255\n",
    "#             plt.imshow(pixels, cmap=plt.cm.bone)\n",
    "#     else:\n",
    "#         plt.title('Nothing to see')\n",
    "#     plt.show()"
   ]
  },
  {
   "cell_type": "markdown",
   "metadata": {},
   "source": [
    "## Show masks histograms"
   ]
  },
  {
   "cell_type": "code",
   "execution_count": null,
   "metadata": {
    "ExecuteTime": {
     "end_time": "2019-08-21T18:30:32.805598Z",
     "start_time": "2019-08-21T18:30:32.802127Z"
    }
   },
   "outputs": [],
   "source": [
    "def get_mask_size(rles):\n",
    "    sizes = []\n",
    "    for rle in rles:\n",
    "        if rle == '-1':\n",
    "            sizes.append(0)\n",
    "            continue\n",
    "        sizes.append(sum([int(ii) for ii in rle.split()[1::2]]))\n",
    "    return sizes"
   ]
  },
  {
   "cell_type": "code",
   "execution_count": null,
   "metadata": {
    "ExecuteTime": {
     "end_time": "2019-08-21T18:30:34.831335Z",
     "start_time": "2019-08-21T18:30:34.014158Z"
    }
   },
   "outputs": [],
   "source": [
    "with_mask = rles[rles[:,1] != '-1']\n",
    "print('Total images: {}. Has masks: {}'.format(len(rles), len(with_mask)))\n",
    "mask_sizes = get_mask_size(rles[:, 1])\n",
    "mask_sizes = [i / (1024*1024)*100 for i in mask_sizes if i > 0]\n",
    "print('Max mask/image perc: {}. Min: {}. Mean: {}.'.format(max(mask_sizes),min(mask_sizes), np.mean(mask_sizes)))\n",
    "plt.hist(mask_sizes, bins=50);"
   ]
  },
  {
   "cell_type": "markdown",
   "metadata": {},
   "source": [
    "## Train test val split"
   ]
  },
  {
   "cell_type": "code",
   "execution_count": null,
   "metadata": {
    "ExecuteTime": {
     "end_time": "2019-08-21T20:24:28.292692Z",
     "start_time": "2019-08-21T20:24:26.407456Z"
    }
   },
   "outputs": [],
   "source": [
    "train, val_test = train_test_split(rles, stratify=rles[:,1] != '-1', test_size=0.2, random_state=42)\n",
    "val, test = train_test_split(val_test, stratify=val_test[:,1] != '-1', test_size=0.5, random_state=42)\n",
    "train_idx = set(train[:,0])\n",
    "val_idx = set(val[:,0])\n",
    "test_idx = set(test[:,0])\n",
    "np.save('workdir/train_idx', train[:,0])\n",
    "np.save('workdir/test_idx', test[:,0])\n",
    "np.save('workdir/val_idx', val[:,0])"
   ]
  },
  {
   "cell_type": "markdown",
   "metadata": {},
   "source": [
    "# Preprocess datasets"
   ]
  },
  {
   "cell_type": "code",
   "execution_count": null,
   "metadata": {
    "ExecuteTime": {
     "end_time": "2019-08-21T20:26:45.672973Z",
     "start_time": "2019-08-21T20:26:32.723288Z"
    }
   },
   "outputs": [],
   "source": [
    "# save train images\n",
    "os.makedirs('workdir/preprocessed_train/images/', exist_ok=True)\n",
    "os.makedirs('workdir/preprocessed_train/masks/', exist_ok=True)\n",
    "clahe = cv2.createCLAHE(clipLimit=2.0, tileGridSize=(8,8))\n",
    "USE_CLAHE = False\n",
    "DILATE_MASK = False\n",
    "def save_one(pair):\n",
    "    idx, dcm = pair\n",
    "    #filename = '{:06d}.'.format(idx)\n",
    "    img = pydicom.dcmread(dcm).pixel_array\n",
    "    img_id = dcm.split('/')[-1][:-4]\n",
    "    try:\n",
    "        rle_mask = rles[rles[:,0] == img_id][0, 1]\n",
    "    except:\n",
    "        rle_mask = '-1'\n",
    "    if rle_mask == '-1':\n",
    "        mask = np.zeros((1024,1024),dtype=np.uint8)\n",
    "    else:\n",
    "        #print(rle_mask)\n",
    "        mask = rle_decode(rle_mask, (1024,1024)).astype(np.uint8)\n",
    "    #print(np.mean(mask))\n",
    "    # make images more contrast\n",
    "    img = clahe.apply(img) if USE_CLAHE else img\n",
    "    # make masks bigger for easier detection\n",
    "    if DILATE_MASK:\n",
    "        mask_sz = np.sqrt(np.sum(mask))\n",
    "        k_sz = int(mask_sz * 0.05) # dilate by 5% of mask size\n",
    "        kernel = np.ones((k_sz, k_sz))\n",
    "        mask = cv2.dilate(mask,kernel,iterations = 1)\n",
    "    cv2.imwrite('workdir/preprocessed_train/images/'+img_id + '.jpg', img)\n",
    "    cv2.imwrite('workdir/preprocessed_train/masks/'+img_id + '.png', mask) #PNG for masks!\n",
    "\n",
    "pairs = list(zip(list(range(len(train_dcms))), train_dcms))\n",
    "with Pool() as pool:\n",
    "    for _ in tqdm_notebook(pool.imap_unordered(save_one, pairs), total=len(pairs)):\n",
    "        pass"
   ]
  },
  {
   "cell_type": "code",
   "execution_count": null,
   "metadata": {
    "ExecuteTime": {
     "end_time": "2019-08-21T17:00:16.658012Z",
     "start_time": "2019-08-21T17:00:16.363323Z"
    }
   },
   "outputs": [],
   "source": [
    "sizes = get_mask_size(rles[:, 1])\n",
    "def f(x):\n",
    "    if x == 0:\n",
    "        return 0\n",
    "    elif x < 1:\n",
    "        return 1\n",
    "    else:\n",
    "        return 2\n",
    "classes = [f(s) for s in sizes]"
   ]
  },
  {
   "cell_type": "raw",
   "metadata": {},
   "source": [
    "8296 пустые. 3286 с масками"
   ]
  },
  {
   "cell_type": "code",
   "execution_count": null,
   "metadata": {
    "ExecuteTime": {
     "end_time": "2019-08-20T14:55:14.003254Z",
     "start_time": "2019-08-20T14:54:50.678566Z"
    }
   },
   "outputs": [],
   "source": [
    "# save test images\n",
    "os.makedirs('workdir/test/images', exist_ok=True)\n",
    "for idx, dcm in enumerate(tqdm_notebook(test_dcms)):\n",
    "    filename = '{:06d}.png'.format(idx)\n",
    "    img = pydicom.dcmread(dcm).pixel_array\n",
    "    cv2.imwrite('workdir/test/images/'+filename, img)"
   ]
  },
  {
   "cell_type": "code",
   "execution_count": null,
   "metadata": {},
   "outputs": [],
   "source": []
  }
 ],
 "metadata": {
  "kernelspec": {
   "display_name": "Python 3",
   "language": "python",
   "name": "python3"
  },
  "language_info": {
   "codemirror_mode": {
    "name": "ipython",
    "version": 3
   },
   "file_extension": ".py",
   "mimetype": "text/x-python",
   "name": "python",
   "nbconvert_exporter": "python",
   "pygments_lexer": "ipython3",
   "version": "3.6.9"
  },
  "varInspector": {
   "cols": {
    "lenName": 16,
    "lenType": 16,
    "lenVar": 40
   },
   "kernels_config": {
    "python": {
     "delete_cmd_postfix": "",
     "delete_cmd_prefix": "del ",
     "library": "var_list.py",
     "varRefreshCmd": "print(var_dic_list())"
    },
    "r": {
     "delete_cmd_postfix": ") ",
     "delete_cmd_prefix": "rm(",
     "library": "var_list.r",
     "varRefreshCmd": "cat(var_dic_list()) "
    }
   },
   "types_to_exclude": [
    "module",
    "function",
    "builtin_function_or_method",
    "instance",
    "_Feature"
   ],
   "window_display": false
  }
 },
 "nbformat": 4,
 "nbformat_minor": 2
}
