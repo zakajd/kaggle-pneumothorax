{
 "cells": [
  {
   "cell_type": "code",
   "execution_count": 3,
   "metadata": {
    "ExecuteTime": {
     "end_time": "2019-08-22T22:43:50.363368Z",
     "start_time": "2019-08-22T22:43:50.315395Z"
    }
   },
   "outputs": [
    {
     "ename": "ModuleNotFoundError",
     "evalue": "No module named 'skimage'",
     "output_type": "error",
     "traceback": [
      "\u001b[0;31m---------------------------------------------------------------------------\u001b[0m",
      "\u001b[0;31mModuleNotFoundError\u001b[0m                       Traceback (most recent call last)",
      "\u001b[0;32m<ipython-input-3-eaf153778b3e>\u001b[0m in \u001b[0;36m<module>\u001b[0;34m\u001b[0m\n\u001b[1;32m     10\u001b[0m \u001b[0;32mfrom\u001b[0m \u001b[0mtqdm\u001b[0m \u001b[0;32mimport\u001b[0m \u001b[0mtqdm_notebook\u001b[0m \u001b[0;32mas\u001b[0m \u001b[0mtqdm\u001b[0m\u001b[0;34m\u001b[0m\u001b[0;34m\u001b[0m\u001b[0m\n\u001b[1;32m     11\u001b[0m \u001b[0;34m\u001b[0m\u001b[0m\n\u001b[0;32m---> 12\u001b[0;31m \u001b[0;32mfrom\u001b[0m \u001b[0mskimage\u001b[0m \u001b[0;32mimport\u001b[0m \u001b[0mexposure\u001b[0m\u001b[0;34m\u001b[0m\u001b[0;34m\u001b[0m\u001b[0m\n\u001b[0m\u001b[1;32m     13\u001b[0m \u001b[0;32mimport\u001b[0m \u001b[0mpydicom\u001b[0m\u001b[0;34m\u001b[0m\u001b[0;34m\u001b[0m\u001b[0m\n\u001b[1;32m     14\u001b[0m \u001b[0;32mfrom\u001b[0m \u001b[0mpytorch_tools\u001b[0m \u001b[0;32mimport\u001b[0m \u001b[0mutils\u001b[0m\u001b[0;34m\u001b[0m\u001b[0;34m\u001b[0m\u001b[0m\n",
      "\u001b[0;31mModuleNotFoundError\u001b[0m: No module named 'skimage'"
     ]
    }
   ],
   "source": [
    "# Based on kernel\n",
    "# https://www.kaggle.com/ekhtiar/finding-pneumo-part-1-eda-and-unet \n",
    "\n",
    "import torch # base\n",
    "import numpy as np\n",
    "from pathlib import Path # look in folders\n",
    "import pandas as pd\n",
    "import pydicom # open dicom images\n",
    "from glob import glob\n",
    "from tqdm import tqdm_notebook as tqdm\n",
    "\n",
    "from skimage import exposure\n",
    "import pydicom\n",
    "from pytorch_tools import utils"
   ]
  },
  {
   "cell_type": "code",
   "execution_count": null,
   "metadata": {},
   "outputs": [],
   "source": [
    "# import pytorch_tools as pt # core functionality\n",
    "import utils # competition specific functions\n",
    "from utils import rle_decode\n",
    "# Some notebooks magic\n",
    "%reload_ext autoreload\n",
    "%autoreload 2\n",
    "%matplotlib inline"
   ]
  },
  {
   "cell_type": "code",
   "execution_count": null,
   "metadata": {},
   "outputs": [],
   "source": [
    "from pytorch_tools import models"
   ]
  },
  {
   "cell_type": "code",
   "execution_count": null,
   "metadata": {},
   "outputs": [],
   "source": [
    "arch = \"vgg19_bn\"\n",
    "model = models.__dict__[arch](pretrained=None, encoder=True).eval()"
   ]
  },
  {
   "cell_type": "code",
   "execution_count": null,
   "metadata": {},
   "outputs": [],
   "source": [
    "tensor = torch.Tensor(1, 3, 224,224)"
   ]
  },
  {
   "cell_type": "code",
   "execution_count": null,
   "metadata": {},
   "outputs": [],
   "source": [
    "for name, module in model.features._modules.items():\n",
    "#     print(type(name))"
   ]
  },
  {
   "cell_type": "code",
   "execution_count": null,
   "metadata": {},
   "outputs": [],
   "source": [
    "output[4]"
   ]
  },
  {
   "cell_type": "code",
   "execution_count": null,
   "metadata": {},
   "outputs": [],
   "source": [
    "model.features"
   ]
  },
  {
   "cell_type": "code",
   "execution_count": null,
   "metadata": {},
   "outputs": [],
   "source": [
    "tensor_features."
   ]
  },
  {
   "cell_type": "code",
   "execution_count": null,
   "metadata": {},
   "outputs": [],
   "source": [
    "vgg2.features._modules.items()"
   ]
  },
  {
   "cell_type": "code",
   "execution_count": null,
   "metadata": {},
   "outputs": [],
   "source": [
    "## Initial setup\n",
    "# !pip install kaggle\n",
    "# !kaggle datasets download -d jesperdramsch/siim-acr-pneumothorax-segmentation-data"
   ]
  },
  {
   "cell_type": "code",
   "execution_count": null,
   "metadata": {},
   "outputs": [],
   "source": [
    "# Data\n",
    "data = Path(\"./siim-acr-pneumothorax-segmentation-data\")\n",
    "train_rle_path = data / \"train-rle.csv\"\n",
    "train_data_folder = data / \"dicom-images-train\"\n",
    "test_data_folder = data / \"dicom-images-test\"\n",
    "train_files_path = [x.as_posix() for x in sorted(train_data_folder.glob(\"./*/*/*\"))]\n",
    "test_files_path = [x.as_posix() for x in sorted(test_data_folder.glob(\"./*/*/*\"))]\n",
    "print(f\"Train dataset length {len(train_files_path)}, test dataset length {len(test_data_path)}\")"
   ]
  },
  {
   "cell_type": "code",
   "execution_count": null,
   "metadata": {},
   "outputs": [],
   "source": [
    "# load rles\n",
    "rles_df = pd.read_csv(train_rle_path)\n",
    "# the second column has a space at the start, so manually giving column name\n",
    "rles_df.columns = ['ImageId', 'EncodedPixels']"
   ]
  },
  {
   "cell_type": "code",
   "execution_count": null,
   "metadata": {},
   "outputs": [],
   "source": [
    "# parse train DICOM dataset\n",
    "train_metadata_df = pd.DataFrame()\n",
    "train_metadata_list = []\n",
    "for file_path in tqdm(train_files_path):\n",
    "    dicom_data = pydicom.dcmread(file_path)\n",
    "    train_metadata = my_utils.dicom_to_dict(dicom_data, file_path, rles_df)\n",
    "    train_metadata_list.append(train_metadata)\n",
    "train_metadata_df = pd.DataFrame(train_metadata_list)\n",
    "\n",
    "test_metadata_list = []\n",
    "for file_path in tqdm(test_files_path):\n",
    "    dicom_data = pydicom.dcmread(file_path)\n",
    "    test_metadata = my_utils.dicom_to_dict(dicom_data, file_path, rles_df, encoded_pixels=False)\n",
    "    test_metadata_list.append(test_metadata)\n",
    "test_metadata_df = pd.DataFrame(test_metadata_list)"
   ]
  },
  {
   "cell_type": "code",
   "execution_count": null,
   "metadata": {},
   "outputs": [],
   "source": [
    "import matplotlib.pyplot as plt\n",
    "from matplotlib import patches as patches"
   ]
  },
  {
   "cell_type": "code",
   "execution_count": null,
   "metadata": {},
   "outputs": [],
   "source": [
    "num_img = 3\n",
    "subplot_count = 0\n",
    "fig, ax = plt.subplots(nrows=1, sharey=True, ncols=num_img, figsize=(num_img*12,12))\n",
    "for index, row in train_metadata_df.sample(n=num_img).iterrows():\n",
    "    dataset = pydicom.dcmread(row['file_path'])\n",
    "    ax[subplot_count].imshow(dataset.pixel_array, cmap=plt.cm.bone)\n",
    "    # label the x-ray with information about the patient\n",
    "    ax[subplot_count].text(0,0,'Age:{}, Sex: {}, Pneumothorax: {}'.format(row['patient_age'],row['patient_sex'],row['has_pneumothorax']),\n",
    "                           size=26,color='white', backgroundcolor='black')\n",
    "    subplot_count += 1"
   ]
  },
  {
   "cell_type": "code",
   "execution_count": null,
   "metadata": {},
   "outputs": [],
   "source": [
    "def rle_decode(rle_str, shape=(1024, 1024), fill_value=1, dtype=np.float32):\n",
    "    s = rle_str.strip().split(\" \")\n",
    "    starts, lengths = np.array([np.asarray(x, dtype=int) for x in (s[0:][::2], s[1:][::2])])\n",
    "    mask = np.zeros(np.prod(shape), dtype=dtype)\n",
    "    start = 0\n",
    "    for index, length in zip(starts, lengths):\n",
    "        start = start+index\n",
    "        end = start+length\n",
    "        mask[start: end] = fill_value\n",
    "        start = end\n",
    "    mask = mask.reshape(shape[::-1])\n",
    "    return mask  "
   ]
  },
  {
   "cell_type": "code",
   "execution_count": null,
   "metadata": {},
   "outputs": [],
   "source": [
    "def bounding_box(img):\n",
    "    # return max and min of a mask to draw bounding box\n",
    "    rows = np.any(img, axis=1)\n",
    "    cols = np.any(img, axis=0)\n",
    "    rmin, rmax = np.where(rows)[0][[0, -1]]\n",
    "    cmin, cmax = np.where(cols)[0][[0, -1]]\n",
    "\n",
    "    return rmin, rmax, cmin, cmax\n",
    "\n",
    "def plot_with_mask_and_bbox(file_path, mask_encoded_list, figsize=(20,10)):\n",
    "    \n",
    "    import cv2\n",
    "    \n",
    "    \"\"\"Plot Chest Xray image with mask(annotation or label) and without mask.\n",
    "\n",
    "    Args:\n",
    "        file_path (str): file path of the dicom data.\n",
    "        mask_encoded (numpy.ndarray): Pandas dataframe of the RLE.\n",
    "        \n",
    "    Returns:\n",
    "        plots the image with and without mask.\n",
    "    \"\"\"\n",
    "    \n",
    "    pixel_array = pydicom.dcmread(file_path).pixel_array\n",
    "    print(np.max(pixel_array))\n",
    "    \n",
    "    clahe = cv2.createCLAHE(clipLimit=2.0, tileGridSize=(16, 16))\n",
    "    clahe_pixel_array = clahe.apply(pixel_array)\n",
    "    adapteq_pixel_array = exposure.equalize_adapthist(pixel_array, clip_limit=0.03)\n",
    "    \n",
    "    # use the masking function to decode RLE\n",
    "    mask_decoded_list = [my_utils.rle_decode(mask_encoded, (1024, 1024)).T for mask_encoded in mask_encoded_list]\n",
    "    \n",
    "    fig, ax = plt.subplots(nrows=1, ncols=3, sharey=True, figsize=(20,10))\n",
    "    \n",
    "    # print out the xray\n",
    "    ax[0].imshow(pixel_array, cmap=plt.cm.bone)\n",
    "    # print the bounding box\n",
    "    for mask_decoded in mask_decoded_list:\n",
    "        # print out the annotated area\n",
    "        ax[0].imshow(mask_decoded, alpha=0.3, cmap=\"Reds\")\n",
    "        rmin, rmax, cmin, cmax = bounding_box(mask_decoded)\n",
    "        bbox = patches.Rectangle((cmin,rmin),cmax-cmin,rmax-rmin,linewidth=1,edgecolor='r',facecolor='none')\n",
    "        ax[0].add_patch(bbox)\n",
    "    ax[0].set_title('With Mask')\n",
    "    \n",
    "    # plot image with clahe processing with just bounding box and no mask\n",
    "    ax[1].imshow(clahe_pixel_array, cmap=plt.cm.bone)\n",
    "    for mask_decoded in mask_decoded_list:\n",
    "        rmin, rmax, cmin, cmax = bounding_box(mask_decoded)\n",
    "        bbox = patches.Rectangle((cmin,rmin),cmax-cmin,rmax-rmin,linewidth=1,edgecolor='r',facecolor='none')\n",
    "        ax[1].add_patch(bbox)\n",
    "    ax[1].set_title('Without Mask - Clahe')\n",
    "    \n",
    "    # plot plain xray with just bounding box and no mask\n",
    "    ax[2].imshow(adapteq_pixel_array, cmap=plt.cm.bone)\n",
    "    for mask_decoded in mask_decoded_list:\n",
    "        rmin, rmax, cmin, cmax = bounding_box(mask_decoded)\n",
    "        bbox = patches.Rectangle((cmin,rmin),cmax-cmin,rmax-rmin,linewidth=1,edgecolor='r',facecolor='none')\n",
    "        ax[2].add_patch(bbox)\n",
    "    ax[2].set_title('Without Mask - Adapteq')\n",
    "    plt.show()"
   ]
  },
  {
   "cell_type": "code",
   "execution_count": null,
   "metadata": {},
   "outputs": [],
   "source": [
    "# lets take 3 random samples of x-rays with \n",
    "train_metadata_sample = train_metadata_df[train_metadata_df['has_pneumothorax']==1].sample(n=1)\n",
    "# plot ten xrays with and without mask\n",
    "for index, row in train_metadata_sample.iterrows():\n",
    "    file_path = row['file_path']\n",
    "    mask_encoded_list = row['encoded_pixels_list']\n",
    "    print('image id: ' + row['id'])\n",
    "    plot_with_mask_and_bbox(file_path, mask_encoded_list)"
   ]
  },
  {
   "cell_type": "code",
   "execution_count": null,
   "metadata": {},
   "outputs": [],
   "source": [
    "train_metadata_sample = train_metadata_df[train_metadata_df['has_pneumothorax']==1].sample(n=1)\n",
    "index, row = next(train_metadata_sample.iterrows())\n",
    "mask_encoded_list = row['encoded_pixels_list']"
   ]
  },
  {
   "cell_type": "code",
   "execution_count": null,
   "metadata": {},
   "outputs": [],
   "source": [
    "def show_dcm_info(dataset):\n",
    "    print(\"Filename.........:\", file_path)\n",
    "    print(\"Storage type.....:\", dataset.SOPClassUID)\n",
    "    print()\n",
    "\n",
    "    pat_name = dataset.PatientName\n",
    "    display_name = pat_name.family_name + \", \" + pat_name.given_name\n",
    "    print(\"Patient's name......:\", display_name)\n",
    "    print(\"Patient id..........:\", dataset.PatientID)\n",
    "    print(\"Patient's Age.......:\", dataset.PatientAge)\n",
    "    print(\"Patient's Sex.......:\", dataset.PatientSex)\n",
    "    print(\"Modality............:\", dataset.Modality)\n",
    "    print(\"Body Part Examined..:\", dataset.BodyPartExamined)\n",
    "    print(\"View Position.......:\", dataset.ViewPosition)\n",
    "    \n",
    "    if 'PixelData' in dataset:\n",
    "        rows = int(dataset.Rows)\n",
    "        cols = int(dataset.Columns)\n",
    "        print(\"Image size.......: {rows:d} x {cols:d}, {size:d} bytes\".format(\n",
    "            rows=rows, cols=cols, size=len(dataset.PixelData)))\n",
    "        if 'PixelSpacing' in dataset:\n",
    "            print(\"Pixel spacing....:\", dataset.PixelSpacing)\n",
    "\n",
    "def plot_pixel_array(dataset, figsize=(10,10)):\n",
    "    plt.figure(figsize=figsize)\n",
    "    plt.imshow(dataset.pixel_array, cmap=plt.cm.bone)\n",
    "    plt.show()"
   ]
  },
  {
   "cell_type": "code",
   "execution_count": null,
   "metadata": {},
   "outputs": [],
   "source": []
  }
 ],
 "metadata": {
  "kernelspec": {
   "display_name": "Python 3",
   "language": "python",
   "name": "python3"
  },
  "language_info": {
   "codemirror_mode": {
    "name": "ipython",
    "version": 3
   },
   "file_extension": ".py",
   "mimetype": "text/x-python",
   "name": "python",
   "nbconvert_exporter": "python",
   "pygments_lexer": "ipython3",
   "version": "3.7.3"
  }
 },
 "nbformat": 4,
 "nbformat_minor": 2
}
