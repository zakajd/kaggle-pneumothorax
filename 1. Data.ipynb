{
 "cells": [
  {
   "cell_type": "markdown",
   "metadata": {},
   "source": [
    "# Imports \n",
    "\n",
    "Based on kernel\n",
    "https://www.kaggle.com/ekhtiar/finding-pneumo-part-1-eda-and-unet "
   ]
  },
  {
   "cell_type": "code",
   "execution_count": null,
   "metadata": {
    "ExecuteTime": {
     "end_time": "2019-08-23T09:37:58.306779Z",
     "start_time": "2019-08-23T09:37:58.230665Z"
    }
   },
   "outputs": [],
   "source": [
    "import torch # base\n",
    "import numpy as np\n",
    "from pathlib import Path # look in folders\n",
    "import pandas as pd\n",
    "import pydicom # open dicom images\n",
    "from tqdm.auto import tqdm\n",
    "import matplotlib.pyplot as plt\n",
    "\n",
    "import pytorch_tools as pt # core functionality\n",
    "from pytorch_tools.utils.rle import rle_to_string, rle_decode, rle_encode\n",
    "import utils # competition specific functions\n",
    "# Some notebooks magic\n",
    "%reload_ext autoreload\n",
    "%autoreload 2\n",
    "%matplotlib inline"
   ]
  },
  {
   "cell_type": "code",
   "execution_count": null,
   "metadata": {
    "ExecuteTime": {
     "end_time": "2019-08-23T09:04:41.539486Z",
     "start_time": "2019-08-23T09:04:41.494892Z"
    }
   },
   "outputs": [],
   "source": [
    "## Initial setup\n",
    "# !pip install kaggle\n",
    "# !kaggle datasets download -d jesperdramsch/siim-acr-pneumothorax-segmentation-data\n",
    "# !mkdir data\n",
    "# !cp ./siim-acr-pneumothorax-segmentation-data.zip ./data/\n",
    "## Extract .zip into data folder"
   ]
  },
  {
   "cell_type": "code",
   "execution_count": null,
   "metadata": {
    "ExecuteTime": {
     "end_time": "2019-08-23T09:34:49.758276Z",
     "start_time": "2019-08-23T09:34:48.889908Z"
    }
   },
   "outputs": [],
   "source": [
    "# Data\n",
    "data = Path(\"./data\")\n",
    "train_rle_path = data / \"train-rle.csv\"\n",
    "train_data_folder = data / \"dicom-images-train\"\n",
    "test_data_folder = data / \"dicom-images-test\"\n",
    "train_files_path = [x.as_posix() for x in sorted(train_data_folder.glob(\"./*/*/*.dcm\"))]\n",
    "test_files_path = [x.as_posix() for x in sorted(test_data_folder.glob(\"./*/*/*.dcm\"))]\n",
    "print(f\"Train dataset length {len(train_files_path)}, test dataset length {len(test_files_path)}\")"
   ]
  },
  {
   "cell_type": "code",
   "execution_count": null,
   "metadata": {
    "ExecuteTime": {
     "end_time": "2019-08-23T09:33:00.910894Z",
     "start_time": "2019-08-23T09:27:27.180126Z"
    }
   },
   "outputs": [],
   "source": [
    "# load rles\n",
    "rles = np.genfromtxt(train_rle_path, delimiter=', ', dtype=str)[1:]\n",
    "print(len(rles)) ## we have more rles than images. lets merge them\n",
    "\n",
    "# new_rles = []\n",
    "# for un_idx in tqdm(np.unique(rles[:, 0])):\n",
    "#     idx_rles = rles[rles[:,0] == un_idx][:, 1]\n",
    "#     masks = [rle_decode(rle, (1024,1024), relative=True) for rle in idx_rles]\n",
    "#     mask = np.clip(np.sum(masks, axis=0), 0,1)\n",
    "#     new_rle = rle_to_string(rle_encode(mask))\n",
    "#     new_rle = new_rle if new_rle else '-1'\n",
    "#     new_rles.append(new_rle)\n",
    "\n",
    "train_rle_filtered_path = data / \"train-rle-filtered.csv\"\n",
    "# with open(train_rle_filtered_path, 'w') as f:\n",
    "#     lines = [','.join([idx, rle]) for idx, rle in zip(np.unique(rles[:, 0]), new_rles)]\n",
    "#     result = '\\n'.join(lines)\n",
    "#     f.write(result)"
   ]
  },
  {
   "cell_type": "code",
   "execution_count": null,
   "metadata": {
    "ExecuteTime": {
     "end_time": "2019-08-23T09:45:59.656593Z",
     "start_time": "2019-08-23T09:45:59.534452Z"
    }
   },
   "outputs": [],
   "source": [
    "rles_df = pd.read_csv(train_rle_filtered_path)\n",
    "# the second column has a space at the start, so manually giving column name\n",
    "rles_df.columns = ['ImageId', 'EncodedPixels']\n",
    "print(len(rles_df)) # Now we have less rles than images, it's OK (see kaggle discussions)\n",
    "# TODO filter those images?"
   ]
  },
  {
   "cell_type": "code",
   "execution_count": null,
   "metadata": {
    "ExecuteTime": {
     "end_time": "2019-08-23T09:46:35.503071Z",
     "start_time": "2019-08-23T09:46:02.153087Z"
    }
   },
   "outputs": [],
   "source": [
    "# parse train DICOM dataset\n",
    "train_metadata_df = pd.DataFrame()\n",
    "train_metadata_list = []\n",
    "for file_path in tqdm(train_files_path):\n",
    "    dicom_data = pydicom.dcmread(file_path)\n",
    "    train_metadata = utils.dicom_to_dict(dicom_data, file_path, rles_df)\n",
    "    train_metadata_list.append(train_metadata)\n",
    "train_metadata_df = pd.DataFrame(train_metadata_list)\n",
    "\n",
    "test_metadata_list = []\n",
    "for file_path in tqdm(test_files_path):\n",
    "    dicom_data = pydicom.dcmread(file_path)\n",
    "    test_metadata = utils.dicom_to_dict(dicom_data, file_path, rles_df, encoded_pixels=False)\n",
    "    test_metadata_list.append(test_metadata)\n",
    "test_metadata_df = pd.DataFrame(test_metadata_list)"
   ]
  },
  {
   "cell_type": "code",
   "execution_count": null,
   "metadata": {
    "ExecuteTime": {
     "end_time": "2019-08-23T09:46:43.497365Z",
     "start_time": "2019-08-23T09:46:41.349355Z"
    }
   },
   "outputs": [],
   "source": [
    "num_img = 3\n",
    "subplot_count = 0\n",
    "fig, ax = plt.subplots(nrows=1, sharey=True, ncols=num_img, figsize=(num_img*12,12))\n",
    "for index, row in train_metadata_df.sample(n=num_img).iterrows():\n",
    "    dataset = pydicom.dcmread(row['file_path'])\n",
    "    ax[subplot_count].imshow(dataset.pixel_array, cmap=plt.cm.bone)\n",
    "    # label the x-ray with information about the patient\n",
    "    ax[subplot_count].text(0,0,'Age:{}, Sex: {}, Pneumothorax: {}'.format(row['patient_age'],row['patient_sex'],row['has_pneumothorax']),\n",
    "                           size=26,color='white', backgroundcolor='black')\n",
    "    subplot_count += 1"
   ]
  },
  {
   "cell_type": "code",
   "execution_count": null,
   "metadata": {
    "ExecuteTime": {
     "end_time": "2019-08-23T09:06:25.299097Z",
     "start_time": "2019-08-23T09:06:22.841482Z"
    }
   },
   "outputs": [],
   "source": [
    "# lets take 2 random samples of x-rays with \n",
    "train_metadata_sample = train_metadata_df[train_metadata_df['has_pneumothorax']==1].sample(n=2)\n",
    "# plot ten xrays with and without mask\n",
    "for index, row in train_metadata_sample.iterrows():\n",
    "    file_path = row['file_path']\n",
    "    mask_encoded_list = row['encoded_pixels_list']\n",
    "    print('image id: ' + row['id'])\n",
    "    utils.plot_with_mask_and_bbox(file_path, mask_encoded_list)"
   ]
  },
  {
   "cell_type": "code",
   "execution_count": null,
   "metadata": {
    "ExecuteTime": {
     "end_time": "2019-08-23T09:06:11.206398Z",
     "start_time": "2019-08-23T09:06:11.155371Z"
    }
   },
   "outputs": [],
   "source": [
    "train_metadata_sample = train_metadata_df[train_metadata_df['has_pneumothorax']==1].sample(n=1)\n",
    "index, row = next(train_metadata_sample.iterrows())\n",
    "mask_encoded_list = row['encoded_pixels_list']"
   ]
  },
  {
   "cell_type": "code",
   "execution_count": null,
   "metadata": {},
   "outputs": [],
   "source": []
  },
  {
   "cell_type": "code",
   "execution_count": null,
   "metadata": {},
   "outputs": [],
   "source": []
  }
 ],
 "metadata": {
  "kernelspec": {
   "display_name": "Python 3",
   "language": "python",
   "name": "python3"
  },
  "language_info": {
   "codemirror_mode": {
    "name": "ipython",
    "version": 3
   },
   "file_extension": ".py",
   "mimetype": "text/x-python",
   "name": "python",
   "nbconvert_exporter": "python",
   "pygments_lexer": "ipython3",
   "version": "3.7.4"
  }
 },
 "nbformat": 4,
 "nbformat_minor": 2
}
