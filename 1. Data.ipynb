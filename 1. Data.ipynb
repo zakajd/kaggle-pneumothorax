{
 "cells": [
  {
   "cell_type": "markdown",
   "metadata": {},
   "source": [
    "# Imports \n",
    "\n",
    "Based on kernel\n",
    "https://www.kaggle.com/ekhtiar/finding-pneumo-part-1-eda-and-unet "
   ]
  },
  {
   "cell_type": "code",
   "execution_count": 30,
   "metadata": {
    "ExecuteTime": {
     "end_time": "2019-08-26T21:01:54.370948Z",
     "start_time": "2019-08-26T21:01:54.251868Z"
    }
   },
   "outputs": [],
   "source": [
    "import torch # base\n",
    "import numpy as np\n",
    "from pathlib import Path # look in folders\n",
    "import pandas as pd\n",
    "import pydicom # open dicom images\n",
    "from tqdm.auto import tqdm\n",
    "import matplotlib.pyplot as plt\n",
    "from ipywidgets import interactive, interact\n",
    "from glob import glob\n",
    "from sklearn.model_selection import train_test_split\n",
    "import random\n",
    "import pytorch_tools as pt # core functionality\n",
    "from pytorch_tools.utils.rle import rle_to_string, rle_decode, rle_encode\n",
    "import utils # competition specific functions\n",
    "# Some notebooks magic\n",
    "%reload_ext autoreload\n",
    "%autoreload 2\n",
    "%matplotlib inline\n",
    "\n",
    "SEED=123"
   ]
  },
  {
   "cell_type": "code",
   "execution_count": 2,
   "metadata": {
    "ExecuteTime": {
     "end_time": "2019-08-26T18:35:02.876706Z",
     "start_time": "2019-08-26T18:35:02.851937Z"
    }
   },
   "outputs": [],
   "source": [
    "## Initial setup\n",
    "# !pip install kaggle\n",
    "# !kaggle datasets download -d jesperdramsch/siim-acr-pneumothorax-segmentation-data\n",
    "# !mkdir data\n",
    "# !cp ./siim-acr-pneumothorax-segmentation-data.zip ./data/\n",
    "# unzip -a ./data/siim-acr-pneumothorax-segmentation-data.zip"
   ]
  },
  {
   "cell_type": "code",
   "execution_count": 11,
   "metadata": {
    "ExecuteTime": {
     "end_time": "2019-08-26T20:30:53.035888Z",
     "start_time": "2019-08-26T20:28:38.494812Z"
    }
   },
   "outputs": [
    {
     "name": "stdout",
     "output_type": "stream",
     "text": [
      "Train dataset length 10712, test dataset length 1377\n"
     ]
    }
   ],
   "source": [
    "# Data\n",
    "data = Path(\"./data\")\n",
    "train_rle_path = data / \"train-rle.csv\"\n",
    "train_data_folder = data / \"dicom-images-train\"\n",
    "test_data_folder = data / \"dicom-images-test\"\n",
    "train_files_path = [x.as_posix() for x in sorted(train_data_folder.glob(\"./*/*/*.dcm\"))]\n",
    "test_files_path = [x.as_posix() for x in sorted(test_data_folder.glob(\"./*/*/*.dcm\"))]\n",
    "print(f\"Train dataset length {len(train_files_path)}, test dataset length {len(test_files_path)}\")\n",
    "utils.show_dicom_info(random.sample(train_files_path))"
   ]
  },
  {
   "cell_type": "code",
   "execution_count": 14,
   "metadata": {
    "ExecuteTime": {
     "end_time": "2019-08-26T20:38:52.834172Z",
     "start_time": "2019-08-26T20:38:52.452796Z"
    }
   },
   "outputs": [
    {
     "name": "stdout",
     "output_type": "stream",
     "text": [
      "11582\n",
      "10674\n"
     ]
    }
   ],
   "source": [
    "# load rles\n",
    "rles = np.genfromtxt(train_rle_path, delimiter=', ', dtype=str)[1:]\n",
    "print(len(rles)) # we have more rles than images. lets merge them\n",
    "\n",
    "# new_rles = []\n",
    "# for un_idx in tqdm(np.unique(rles[:, 0])):\n",
    "#     idx_rles = rles[rles[:,0] == un_idx][:, 1]\n",
    "#     masks = [rle_decode(rle, (1024,1024), relative=True) for rle in idx_rles]\n",
    "#     mask = np.clip(np.sum(masks, axis=0), 0,1)\n",
    "#     new_rle = rle_to_string(rle_encode(mask))\n",
    "#     new_rle = new_rle if new_rle else '-1'\n",
    "#     new_rles.append(new_rle)\n",
    "\n",
    "train_rle_filtered_path = data / \"train-rle-filtered.csv\"\n",
    "\n",
    "# with open(train_rle_filtered_path, 'w') as f:\n",
    "#     lines = [', '.join([idx, rle]) for idx, rle in zip(np.unique(rles[:, 0]), new_rles)]\n",
    "#     result = '\\n'.join(lines)\n",
    "#     f.write(result)\n",
    "rles_filtered_df = pd.read_csv(train_rle_filtered_path)\n",
    "# the second column has a space at the start, so manually giving column name\n",
    "rles_filtered_df.columns = ['ImageId', 'EncodedPixels']\n",
    "print(len(rles_filtered_df)) # Now we have less rles than images, it's OK (see kaggle discussions)"
   ]
  },
  {
   "cell_type": "code",
   "execution_count": 24,
   "metadata": {
    "ExecuteTime": {
     "end_time": "2019-08-26T20:57:04.868925Z",
     "start_time": "2019-08-26T20:57:03.883015Z"
    }
   },
   "outputs": [
    {
     "data": {
      "application/vnd.jupyter.widget-view+json": {
       "model_id": "b561050b71164f9b86947caff93b72f5",
       "version_major": 2,
       "version_minor": 0
      },
      "text/plain": [
       "interactive(children=(IntSlider(value=4, description='n', max=20), Checkbox(value=True, description='show_mask…"
      ]
     },
     "metadata": {},
     "output_type": "display_data"
    }
   ],
   "source": [
    "import cv2\n",
    "clahe = cv2.createCLAHE(clipLimit=2.0, tileGridSize=(16, 16))\n",
    "rles = np.genfromtxt(train_rle_filtered_path, delimiter=', ', dtype=str)\n",
    "@interact(n=(0,20))\n",
    "def f(n=4, show_mask=True, use_clahe=False, dilate_mask=False):\n",
    "    dataset = pydicom.dcmread(train_files_path[n])\n",
    "    #show_dcm_info(dataset)\n",
    "    plt.figure(figsize=(8,8))\n",
    "    pixels = dataset.pixel_array\n",
    "    if use_clahe:\n",
    "        pixels = clahe.apply(pixels)\n",
    "    plt.imshow(pixels, cmap=plt.cm.bone)\n",
    "    img_id = train_files_path[n].split('/')[-1][:-4]\n",
    "    try:\n",
    "        rle_mask = rles[rles[:,0] == img_id][0, 1]\n",
    "    except:\n",
    "        rle_mask = '-1'\n",
    "    if rle_mask != '-1':\n",
    "        plt.title('Has pneumothorex')\n",
    "        mask = rle_decode(rle_mask, (1024,1024)).astype(np.uint8)\n",
    "        if show_mask:\n",
    "            if dilate_mask:\n",
    "                mask_sz = np.sqrt(np.sum(mask))\n",
    "                k_sz = int(mask_sz * 0.1)\n",
    "                kernel = np.ones((k_sz, k_sz))\n",
    "                mask = cv2.dilate(mask,kernel,iterations = 1)\n",
    "            pixels[mask == 1] = 255\n",
    "            plt.imshow(pixels, cmap=plt.cm.bone)\n",
    "        has_pneumothorex = True\n",
    "    else:\n",
    "        plt.title('No pneumothorex')\n",
    "        has_pneumothorex = False\n",
    "        \n",
    "        # label the x-ray with information about the patient\n",
    "    plt.text(0,0,'Age:{}, Sex: {}, Pneumothorax: {}'.format(int(dataset.PatientAge), \n",
    "                                                             dataset.PatientSex,\n",
    "                                                             has_pneumothorex),\n",
    "                           size=20,color='white', backgroundcolor='black')\n",
    "    \n",
    "    plt.show()"
   ]
  },
  {
   "cell_type": "code",
   "execution_count": 25,
   "metadata": {
    "ExecuteTime": {
     "end_time": "2019-08-26T20:59:52.006727Z",
     "start_time": "2019-08-26T20:59:50.790520Z"
    }
   },
   "outputs": [
    {
     "name": "stdout",
     "output_type": "stream",
     "text": [
      "Total images: 10675. Has masks: 2379\n",
      "Max mask/image perc: 15.394306182861328. Min: 0.005245208740234375. Mean: 1.3680423994733788.\n"
     ]
    },
    {
     "data": {
      "image/png": "[encoded data removed]",
      "text/plain": [
       "<Figure size 432x288 with 1 Axes>"
      ]
     },
     "metadata": {
      "needs_background": "light"
     },
     "output_type": "display_data"
    }
   ],
   "source": [
    "def get_mask_size(rles):\n",
    "    sizes = []\n",
    "    for rle in rles:\n",
    "        if rle == '-1':\n",
    "            sizes.append(0)\n",
    "            continue\n",
    "        sizes.append(sum([int(ii) for ii in rle.split()[1::2]]))\n",
    "    return sizes\n",
    "\n",
    "with_mask = rles[rles[:,1] != '-1']\n",
    "print('Total images: {}. Has masks: {}'.format(len(rles), len(with_mask)))\n",
    "mask_sizes = get_mask_size(rles[:, 1])\n",
    "mask_sizes = [i / (1024*1024)*100 for i in mask_sizes if i > 0]\n",
    "print('Max mask/image perc: {}. Min: {}. Mean: {}.'.format(max(mask_sizes),min(mask_sizes), np.mean(mask_sizes)))\n",
    "plt.hist(mask_sizes, bins=50);"
   ]
  },
  {
   "cell_type": "code",
   "execution_count": 31,
   "metadata": {
    "ExecuteTime": {
     "end_time": "2019-08-26T21:02:25.760934Z",
     "start_time": "2019-08-26T21:02:04.577841Z"
    }
   },
   "outputs": [],
   "source": [
    "train, val_test = train_test_split(rles, stratify=rles[:,1] != '-1', test_size=0.2, random_state=SEED)\n",
    "val, test = train_test_split(val_test, stratify=val_test[:,1] != '-1', test_size=0.5, random_state=SEED)\n",
    "train_idx = set(train[:,0])\n",
    "val_idx = set(val[:,0])\n",
    "test_idx = set(test[:,0])\n",
    "np.save(data / 'train_idx', train[:,0])\n",
    "np.save(data / 'test_idx', test[:,0])\n",
    "np.save(data / 'val_idx', val[:,0])"
   ]
  },
  {
   "cell_type": "code",
   "execution_count": 32,
   "metadata": {
    "ExecuteTime": {
     "end_time": "2019-08-26T21:04:29.788617Z",
     "start_time": "2019-08-26T21:04:28.608514Z"
    }
   },
   "outputs": [],
   "source": [
    "# save train images\n",
    "Path.mkdir(data / 'preprocessed_train/images/', exist_ok=True, parents=True)\n",
    "Path.mkdir(data / 'preprocessed_train/masks/', exist_ok=True, parents=True)\n",
    "clahe = cv2.createCLAHE(clipLimit=2.0, tileGridSize=(8,8))\n",
    "USE_CLAHE = False\n",
    "DILATE_MASK = False"
   ]
  },
  {
   "cell_type": "code",
   "execution_count": 36,
   "metadata": {
    "ExecuteTime": {
     "end_time": "2019-08-26T21:08:31.506154Z",
     "start_time": "2019-08-26T21:06:03.548377Z"
    }
   },
   "outputs": [
    {
     "data": {
      "application/vnd.jupyter.widget-view+json": {
       "model_id": "a5f32b195da843d29307638f9b698652",
       "version_major": 2,
       "version_minor": 0
      },
      "text/plain": [
       "HBox(children=(IntProgress(value=0, max=10712), HTML(value='')))"
      ]
     },
     "metadata": {},
     "output_type": "display_data"
    },
    {
     "name": "stdout",
     "output_type": "stream",
     "text": [
      "\n"
     ]
    }
   ],
   "source": [
    "def save_one(pair):\n",
    "    idx, dcm = pair\n",
    "    #filename = '{:06d}.'.format(idx)\n",
    "    img = pydicom.dcmread(dcm).pixel_array\n",
    "    img_id = dcm.split('/')[-1][:-4]\n",
    "    try:\n",
    "        rle_mask = rles[rles[:,0] == img_id][0, 1]\n",
    "    except:\n",
    "        rle_mask = '-1'\n",
    "    if rle_mask == '-1':\n",
    "        mask = np.zeros((1024,1024),dtype=np.uint8)\n",
    "    else:\n",
    "        #print(rle_mask)\n",
    "        mask = rle_decode(rle_mask, (1024,1024)).astype(np.uint8)\n",
    "    #print(np.mean(mask))\n",
    "    # make images more contrast\n",
    "    img = clahe.apply(img) if USE_CLAHE else img\n",
    "    # make masks bigger for easier detection\n",
    "    if DILATE_MASK:\n",
    "        mask_sz = np.sqrt(np.sum(mask))\n",
    "        k_sz = int(mask_sz * 0.05) # dilate by 5% of mask size\n",
    "        kernel = np.ones((k_sz, k_sz))\n",
    "        mask = cv2.dilate(mask,kernel,iterations = 1)\n",
    "    cv2.imwrite(str(data / 'preprocessed_train/images/')+img_id + '.jpg', img)\n",
    "    cv2.imwrite(str(data / 'preprocessed_train/masks/')+img_id + '.png', mask) #PNG for masks!\n",
    "\n",
    "from multiprocessing import Pool\n",
    "pairs = list(zip(list(range(len(train_files_path))), train_files_path))\n",
    "with Pool() as pool:\n",
    "    for _ in tqdm(pool.imap_unordered(save_one, pairs), total=len(pairs)):\n",
    "        pass"
   ]
  },
  {
   "cell_type": "code",
   "execution_count": null,
   "metadata": {},
   "outputs": [],
   "source": []
  },
  {
   "cell_type": "code",
   "execution_count": null,
   "metadata": {},
   "outputs": [],
   "source": [
    "# save test images\n",
    "os.makedirs('workdir/test/images', exist_ok=True)\n",
    "for idx, dcm in enumerate(tqdm(test_files_path)):\n",
    "    filename = '{:06d}.png'.format(idx)\n",
    "    img = pydicom.dcmread(dcm).pixel_array\n",
    "    cv2.imwrite(str(data / 'preprocessed_test/images/'+filename, img)"
   ]
  }
 ],
 "metadata": {
  "kernelspec": {
   "display_name": "Python 3",
   "language": "python",
   "name": "python3"
  },
  "language_info": {
   "codemirror_mode": {
    "name": "ipython",
    "version": 3
   },
   "file_extension": ".py",
   "mimetype": "text/x-python",
   "name": "python",
   "nbconvert_exporter": "python",
   "pygments_lexer": "ipython3",
   "version": "3.7.4"
  }
 },
 "nbformat": 4,
 "nbformat_minor": 2
}
